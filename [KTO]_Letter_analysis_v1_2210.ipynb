{
 "cells": [
  {
   "cell_type": "markdown",
   "metadata": {},
   "source": [
    "# [KTO]_Letter_analysis_v1_2210"
   ]
  },
  {
   "cell_type": "markdown",
   "metadata": {},
   "source": [
    "**분석개요**\n",
    "\n",
    "    A. 가볼래터 성과 분석 리포트\n",
    "        1. 매체별 유입 분석\n",
    "            1) 유입\n",
    "            2) 재방문\n",
    "            3) 구독 전환\n",
    "            4) 이상 유저\n",
    "            5) 앱설치\n",
    "        2. 주요 KPI 지표 성과 분석\n",
    "            1) 유입\n",
    "            2) 활성\n",
    "            3) 리텐션\n",
    "        3. 이동 경로 분석"
   ]
  },
  {
   "cell_type": "code",
   "execution_count": 1,
   "metadata": {},
   "outputs": [],
   "source": [
    "# basic\n",
    "import gc\n",
    "import os\n",
    "import sys\n",
    "import warnings\n",
    "warnings.filterwarnings(action='ignore') \n",
    "from IPython.core.interactiveshell import InteractiveShell\n",
    "InteractiveShell.ast_node_interactivity = \"all\"\n",
    "\n",
    "#--------------------#\n",
    "# handling\n",
    "#--------------------#\n",
    "import math\n",
    "import time\n",
    "import random\n",
    "# import openpyxl\n",
    "import importlib\n",
    "import xlsxwriter\n",
    "import numpy as np\n",
    "import pandas as pd\n",
    "from collections import Counter\n",
    "from datetime import datetime, timedelta\n",
    "\n",
    "#--------------------#\n",
    "# Vis\n",
    "#--------------------#\n",
    "import matplotlib\n",
    "import matplotlib.pyplot as plt\n",
    "import seaborn as sns\n",
    "## Vis for jupyter theme\n",
    "from IPython.display import Image\n",
    "from jupyterthemes import jtplot\n",
    "jtplot.style(theme= 'grade3', context='notebook', ticks=True, grid=False) ## dark backgroud jupyter notebook theme\n",
    "# plt.style.use(['seaborn-white']) ## dark background style ## white style : 'seaborn-white'\n",
    "plt.style.use(['dark_background']) ## dark background style ## white style : 'seaborn-white'\n",
    "## Vis for korean \n",
    "import matplotlib.font_manager as fm\n",
    "font_location = '/usr/share/fonts/truetype/nanum/NanumSquareRoundB.ttf'\n",
    "fprop = fm.FontProperties(fname=font_location)\n",
    "font_name = fprop.get_name()\n",
    "matplotlib.rc('font', family=font_name)"
   ]
  },
  {
   "cell_type": "code",
   "execution_count": 2,
   "metadata": {},
   "outputs": [],
   "source": [
    "#--------------------#\n",
    "# sphere package\n",
    "#--------------------#\n",
    "sys.path.append(\"/home/das_share/sphere_class/\")\n",
    "import SpherePackage\n",
    "from SpherePackage import *\n",
    "for pkg in [SpherePackage] :\n",
    "    _ = importlib.reload(pkg)\n",
    "\n",
    "#--------------------#\n",
    "# kto package\n",
    "#--------------------#\n",
    "sys.path.append(\"../src/\")\n",
    "import kto_config\n",
    "import kto_util\n",
    "import kto_prep\n",
    "from kto_config import *\n",
    "from kto_prep import *\n",
    "from kto_util import *\n",
    "\n",
    "for pkg in [kto_config, kto_prep, kto_util] :\n",
    "    _ = importlib.reload(pkg)"
   ]
  },
  {
   "cell_type": "markdown",
   "metadata": {},
   "source": [
    "# 1.Data Import"
   ]
  },
  {
   "cell_type": "code",
   "execution_count": 3,
   "metadata": {},
   "outputs": [],
   "source": [
    "#------------------------------------------------#\n",
    "# 1. log Data import\n",
    "#------------------------------------------------#\n",
    "# dates: 10월 한 달\n",
    "df_app_log = DataImport.read_files(\n",
    "    input_path = INPUT_PATH + DATA_TYPE + APP_KEY, \n",
    "    today = today + timedelta(days = 1), \n",
    "    dates = dates,\n",
    "    platform_total = True, reduce_memory = True, verbose = False)"
   ]
  },
  {
   "cell_type": "code",
   "execution_count": 4,
   "metadata": {},
   "outputs": [],
   "source": [
    "df_app_log_copy = df_app_log.copy()"
   ]
  },
  {
   "cell_type": "markdown",
   "metadata": {},
   "source": [
    "# 2.Preprocess"
   ]
  },
  {
   "cell_type": "code",
   "execution_count": 5,
   "metadata": {},
   "outputs": [],
   "source": [
    "#------------------------------------------------#\n",
    "# 1. prep\n",
    "#------------------------------------------------#\n",
    "## 1) log\n",
    "df_app_log = SpherePrep.BasicPrep.basic_prep(df_app_log)                # log data\n",
    "\n",
    "## 2) user prop\n",
    "df_prop = SpherePrep.Prop.df_prop_pipe(df_app_log, KEY_ID = [KEY_ID_DEVICE, KEY_ID_USER])       # user data\n",
    "df_prop_manual = KtoPrep.import_prop_manul_data() \n",
    "df_prop = pd.merge(\n",
    "    left = df_prop, right = df_prop_manual[[KEY_ID_USER, 'birth_y' #'gender'\n",
    "    ]],\n",
    "    on = KEY_ID_USER, how = 'left')"
   ]
  },
  {
   "cell_type": "code",
   "execution_count": 6,
   "metadata": {},
   "outputs": [],
   "source": [
    "#------------------------------------------------#\n",
    "# 1. prep\n",
    "#------------------------------------------------#\n",
    "## 3) param - 1\n",
    "_, df_param_all = DataImport.json_to_dataframe_nodeN(\n",
    "    df_app_log, [KEY_ID_DEVICE, KEY_ID_USER]\n",
    "    )"
   ]
  },
  {
   "cell_type": "code",
   "execution_count": 7,
   "metadata": {},
   "outputs": [],
   "source": [
    "#------------------------------------------------#\n",
    "# 1. prep\n",
    "#------------------------------------------------#\n",
    "## 3) param - 2\n",
    "_, df_param_all_session = DataImport.json_to_dataframe_nodeN( \n",
    "    df_app_log, [KEY_ID_DEVICE, KEY_ID_USER, 'sid']\n",
    "    ) ### + param by session"
   ]
  },
  {
   "cell_type": "code",
   "execution_count": 8,
   "metadata": {},
   "outputs": [],
   "source": [
    "#------------------------------------------------#\n",
    "# 1. prep\n",
    "#------------------------------------------------#\n",
    "## 4) referr\n",
    "lst_extrated_referr_cols = ['utm_campaign', 'utm_source', 'utm_medium']\n",
    "df_app_log = SpherePrep.Attribution_Prep.gen_session_referr_cols(\n",
    "        df_app_log, \n",
    "        referr_col = 'referrer', \n",
    "        lst_extrated_referr_cols = lst_extrated_referr_cols,\n",
    "        fill_na_organic = True)"
   ]
  },
  {
   "cell_type": "code",
   "execution_count": 9,
   "metadata": {},
   "outputs": [],
   "source": [
    "#------------------------------------------------#\n",
    "# 2. param detail data\n",
    "#------------------------------------------------#\n",
    "## 1) event 기준\n",
    "# df_param_install = DataImport.extract_event_param(df_param_all, EVENT_APP_INSTALL).drop_duplicates()\n",
    "df_param_contents = DataImport.extract_event_param(df_param_all, EVENT_CONTENT_DETAIL).drop_duplicates()\n",
    "df_param_subscribe = DataImport.extract_event_param(df_param_all, EVENT_SUBSCRIBE).drop_duplicates()\n",
    "df_param_letter_main = DataImport.extract_event_param(df_param_all, EVENT_SUBSCRIBE_LETTER).drop_duplicates()\n",
    "df_param_like = DataImport.extract_event_param(df_param_all, EVENT_SUBSCRIBE_LIKE).drop_duplicates()\n",
    "df_param_signup = DataImport.extract_event_param(df_param_all, EVENT_SIGNUP).drop_duplicates()\n",
    "\n",
    "## 2) 가볼래터 data 생성\n",
    "df_param_contents_letter = df_param_contents[df_param_contents[PARAM_CONTENT_NAME].str.contains('가볼래-터', na=False)]"
   ]
  },
  {
   "cell_type": "code",
   "execution_count": 10,
   "metadata": {},
   "outputs": [
    {
     "data": {
      "text/plain": [
       "array(['가볼래-터 구독하러 가기', \"여행구독 '가볼래-터' 구독자 레벨업을 위한 ★미션 참여 방법& 선물 언박싱★\",\n",
       "       '＇가볼래-터＇구독 신청하고 미션 선물받자!',\n",
       "       '[2차 앵콜] 다시 돌아온 가볼래-터 깜짝 이벤트! 여행구독 미션 참여하고, 카톡 이모티콘 받자!',\n",
       "       '대한민국 구석구석 여행구독 서비스! 가볼래-터 구독자 대상 만족도 조사',\n",
       "       '대한민국 구석구석 여행구독 서비스! 가볼래-터 구독자 대상 만족도 조사 당첨자 발표'], dtype=object)"
      ]
     },
     "execution_count": 10,
     "metadata": {},
     "output_type": "execute_result"
    }
   ],
   "source": [
    "df_param_contents_letter[PARAM_CONTENT_NAME].unique()"
   ]
  },
  {
   "cell_type": "markdown",
   "metadata": {},
   "source": [
    "# 3.Analysis\n",
    "## 0)Segment Setting"
   ]
  },
  {
   "cell_type": "code",
   "execution_count": 11,
   "metadata": {},
   "outputs": [],
   "source": [
    "#------------------------------------------------#\n",
    "# 1. segment by referrer\n",
    "#------------------------------------------------#\n",
    "dict_lst_user_from_referrs = KtoPrep.get_user_list_by_referr(\n",
    "    df_app_log, KEY_ID = KEY_ID_DEVICE,\n",
    "    DEPTH_1_COL = 'referrer_utm_campaign', \n",
    "    DEPTH_2_COL = 'referrer_utm_source') \n",
    "dict_lst_user_from_referrs_gudok = dict_lst_user_from_referrs['2022_gudok']\n",
    "# dict_lst_user_from_referrs_tw['organic']  = dict_lst_user_from_referrs['organic']['organic'] # organic 유입 추가 (optional)\n",
    "\n",
    "#------------------------------------------------#\n",
    "# 2. segment by duration per device\n",
    "#------------------------------------------------#\n",
    "df_duration_per_device = df_app_log.groupby([KEY_ID_DEVICE])['duration'].sum()\n",
    "dict_duration_seg = dict()\n",
    "dict_duration_seg['high'] = df_duration_per_device[\n",
    "    df_duration_per_device >= df_duration_per_device.quantile(0.66)].index\n",
    "dict_duration_seg['middle'] = df_duration_per_device[\n",
    "    (df_duration_per_device < df_duration_per_device.quantile(0.66)) &\n",
    "    (df_duration_per_device >= df_duration_per_device.quantile(0.33))\n",
    "    ].index\n",
    "dict_duration_seg['low'] = df_duration_per_device[\n",
    "    df_duration_per_device < df_duration_per_device.quantile(0.33)].index\n",
    "\n",
    "#------------------------------------------------#\n",
    "# 3. segment by new or re\n",
    "#------------------------------------------------#\n",
    "lst_new_device = list(df_app_log[df_app_log['created_date'] >= datetime.strptime(s_date, '%Y%m%d')][KEY_ID_DEVICE].unique())\n",
    "lst_re_device = list(df_app_log[df_app_log['created_date'] < datetime.strptime(s_date, '%Y%m%d')][KEY_ID_DEVICE].unique())\n",
    "\n",
    "#------------------------------------------------#\n",
    "# 4. segment by fraud or total\n",
    "#------------------------------------------------#\n",
    "lst_fraud_device = list(df_app_log[df_app_log['duration'] <  5][KEY_ID_DEVICE].unique())\n",
    "lst_total_device = list(df_app_log[KEY_ID_DEVICE].unique())\n",
    "\n",
    "#------------------------------------------------#\n",
    "# 5. segment by demo (gender or age)\n",
    "#------------------------------------------------#\n",
    "## gender\n",
    "dict_seg_gender = dict()\n",
    "dict_seg_gender['m'] = list(df_prop[df_prop['gender'] == 'm'][KEY_ID_DEVICE])\n",
    "dict_seg_gender['f'] = list(df_prop[df_prop['gender'] == 'f'][KEY_ID_DEVICE])\n",
    "\n",
    "## age\n",
    "dict_seg_age = dict()\n",
    "dict_seg_age['20_30'] = list(df_prop[(datetime.today().year - df_prop['birth_y']) < 40][KEY_ID_DEVICE])\n",
    "dict_seg_age['40_50'] = list(df_prop[(datetime.today().year - df_prop['birth_y']) >= 40][KEY_ID_DEVICE])\n",
    "# # ======================================================== #  next version\n",
    "# dict_seg_age['20_30'] = list(df_prop[df_prop['age'] < 40][KEY_ID_DEVICE])\n",
    "# dict_seg_age['40_50'] = list(df_prop[df_prop['age'] >= 40][KEY_ID_DEVICE])\n",
    "\n",
    "#------------------------------------------------#\n",
    "# 6. subscribe segment \n",
    "#------------------------------------------------#\n",
    "lst_subscribe_device = list(df_app_log[\n",
    "    df_app_log['abs_events'].apply(lambda x : True if EVENT_SUBSCRIBE in x else False)\n",
    "    ][KEY_ID_DEVICE].values)"
   ]
  },
  {
   "cell_type": "markdown",
   "metadata": {},
   "source": [
    "## 1)매체 유입 성과 분석\n",
    "### (1) 매체별 유입인원"
   ]
  },
  {
   "cell_type": "code",
   "execution_count": 35,
   "metadata": {},
   "outputs": [
    {
     "data": {
      "text/plain": [
       "dict_keys(['kakaotalk_bizmessage', 'GDN', 'KAKAO_moment', 'FB_INSTA', 'NAVER_GFA'])"
      ]
     },
     "execution_count": 35,
     "metadata": {},
     "output_type": "execute_result"
    }
   ],
   "source": [
    "# 0. prep: instagram, kakao_mo -> drop\n",
    "del dict_lst_user_from_referrs_gudok['instagram']\n",
    "del dict_lst_user_from_referrs_gudok['kakao_mo']\n",
    "dict_lst_user_from_referrs_gudok.keys()"
   ]
  },
  {
   "cell_type": "code",
   "execution_count": 36,
   "metadata": {},
   "outputs": [
    {
     "data": {
      "text/html": [
       "<div>\n",
       "<style scoped>\n",
       "    .dataframe tbody tr th:only-of-type {\n",
       "        vertical-align: middle;\n",
       "    }\n",
       "\n",
       "    .dataframe tbody tr th {\n",
       "        vertical-align: top;\n",
       "    }\n",
       "\n",
       "    .dataframe thead th {\n",
       "        text-align: right;\n",
       "    }\n",
       "</style>\n",
       "<table border=\"1\" class=\"dataframe\">\n",
       "  <thead>\n",
       "    <tr style=\"text-align: right;\">\n",
       "      <th></th>\n",
       "      <th>inflow_cnt</th>\n",
       "    </tr>\n",
       "  </thead>\n",
       "  <tbody>\n",
       "    <tr>\n",
       "      <th>kakaotalk_bizmessage</th>\n",
       "      <td>5327</td>\n",
       "    </tr>\n",
       "    <tr>\n",
       "      <th>GDN</th>\n",
       "      <td>4665</td>\n",
       "    </tr>\n",
       "    <tr>\n",
       "      <th>KAKAO_moment</th>\n",
       "      <td>2868</td>\n",
       "    </tr>\n",
       "    <tr>\n",
       "      <th>FB_INSTA</th>\n",
       "      <td>4447</td>\n",
       "    </tr>\n",
       "    <tr>\n",
       "      <th>NAVER_GFA</th>\n",
       "      <td>5102</td>\n",
       "    </tr>\n",
       "  </tbody>\n",
       "</table>\n",
       "</div>"
      ],
      "text/plain": [
       "                      inflow_cnt\n",
       "kakaotalk_bizmessage        5327\n",
       "GDN                         4665\n",
       "KAKAO_moment                2868\n",
       "FB_INSTA                    4447\n",
       "NAVER_GFA                   5102"
      ]
     },
     "execution_count": 36,
     "metadata": {},
     "output_type": "execute_result"
    },
    {
     "data": {
      "image/png": "[encoded data removed]",
      "text/plain": [
       "<Figure size 720x576 with 1 Axes>"
      ]
     },
     "metadata": {},
     "output_type": "display_data"
    }
   ],
   "source": [
    "# 1. inflow cnt by referrs\n",
    "dict_output_inflow_cnt = {}\n",
    "\n",
    "for key, values in dict_lst_user_from_referrs_gudok.items():\n",
    "    dict_output_inflow_cnt[key] = len(values)\n",
    "\n",
    "df_vis1 = pd.DataFrame.from_dict(dict_output_inflow_cnt, orient='index', columns=['inflow_cnt'])\n",
    "df_vis1\n",
    "\n",
    "SphereVis.basic_bar_plot(\n",
    "    df_vis1, x = df_vis1.index, y = 'inflow_cnt', title= '가볼래-터 매체별 전체 유입인원')\n",
    "plt.show()"
   ]
  },
  {
   "cell_type": "markdown",
   "metadata": {},
   "source": [
    "### (2) 매체별 재방문율"
   ]
  },
  {
   "cell_type": "code",
   "execution_count": 37,
   "metadata": {},
   "outputs": [
    {
     "data": {
      "text/html": [
       "<div>\n",
       "<style scoped>\n",
       "    .dataframe tbody tr th:only-of-type {\n",
       "        vertical-align: middle;\n",
       "    }\n",
       "\n",
       "    .dataframe tbody tr th {\n",
       "        vertical-align: top;\n",
       "    }\n",
       "\n",
       "    .dataframe thead th {\n",
       "        text-align: right;\n",
       "    }\n",
       "</style>\n",
       "<table border=\"1\" class=\"dataframe\">\n",
       "  <thead>\n",
       "    <tr style=\"text-align: right;\">\n",
       "      <th></th>\n",
       "      <th>only_1_visit</th>\n",
       "      <th>revisit_rate</th>\n",
       "      <th>revisit_over_3_rate</th>\n",
       "    </tr>\n",
       "  </thead>\n",
       "  <tbody>\n",
       "    <tr>\n",
       "      <th>kakaotalk_bizmessage</th>\n",
       "      <td>0.823085</td>\n",
       "      <td>0.176915</td>\n",
       "      <td>0.068393</td>\n",
       "    </tr>\n",
       "    <tr>\n",
       "      <th>GDN</th>\n",
       "      <td>0.823085</td>\n",
       "      <td>0.176915</td>\n",
       "      <td>0.068393</td>\n",
       "    </tr>\n",
       "    <tr>\n",
       "      <th>KAKAO_moment</th>\n",
       "      <td>0.823085</td>\n",
       "      <td>0.176915</td>\n",
       "      <td>0.068393</td>\n",
       "    </tr>\n",
       "    <tr>\n",
       "      <th>FB_INSTA</th>\n",
       "      <td>0.823085</td>\n",
       "      <td>0.176915</td>\n",
       "      <td>0.068393</td>\n",
       "    </tr>\n",
       "    <tr>\n",
       "      <th>NAVER_GFA</th>\n",
       "      <td>0.823085</td>\n",
       "      <td>0.176915</td>\n",
       "      <td>0.068393</td>\n",
       "    </tr>\n",
       "  </tbody>\n",
       "</table>\n",
       "</div>"
      ],
      "text/plain": [
       "                      only_1_visit  revisit_rate  revisit_over_3_rate\n",
       "kakaotalk_bizmessage      0.823085      0.176915             0.068393\n",
       "GDN                       0.823085      0.176915             0.068393\n",
       "KAKAO_moment              0.823085      0.176915             0.068393\n",
       "FB_INSTA                  0.823085      0.176915             0.068393\n",
       "NAVER_GFA                 0.823085      0.176915             0.068393"
      ]
     },
     "execution_count": 37,
     "metadata": {},
     "output_type": "execute_result"
    }
   ],
   "source": [
    "# 2. rate of revisit\n",
    "## data setting by referrs\n",
    "dict_id_referrs = {}\n",
    "dict_df_param_contents = {}\n",
    "dict_df_log = {}\n",
    "dict_df_prop = {}\n",
    "\n",
    "for key, values in dict_lst_user_from_referrs_gudok.items():\n",
    "    dict_id_referrs[key] = values\n",
    "\n",
    "    dict_df_log[key] = df_app_log[\n",
    "                            df_app_log[KEY_ID_DEVICE].isin(\n",
    "                                dict_id_referrs[key])]\n",
    "\n",
    "    dict_df_param_contents[key] = df_param_contents_letter[\n",
    "                                        df_param_contents_letter[KEY_ID_DEVICE].isin(\n",
    "                                            dict_id_referrs[key])]\n",
    "\n",
    "    dict_df_prop[key] = df_prop[\n",
    "                            df_prop[KEY_ID_DEVICE].isin(\n",
    "                                dict_id_referrs[key])]\n",
    "\n",
    "dict_visit_cnt = {}\n",
    "\n",
    "for key, values in dict_df_param_contents.items():\n",
    "    _df = dict_df_param_contents['GDN'].groupby(KEY_ID_DEVICE)['day'].size().to_frame(\n",
    "        name = 'day_cnt')\n",
    "        \n",
    "    VISIT_1_CNT = len(_df[_df['day_cnt'] == 1])\n",
    "    VISIT_2_CNT = len(_df[_df['day_cnt'] == 2])\n",
    "    VISIT_3_CNT = len(_df[_df['day_cnt'] >= 3])\n",
    "\n",
    "    VISIT_1_RATE = VISIT_1_CNT / len(_df)\n",
    "    REVISIT_2_RATE= 1 - VISIT_1_RATE\n",
    "    REVISIT_3_RATE = 1 - ((VISIT_1_CNT + VISIT_2_CNT) / len(_df))\n",
    "\n",
    "    dict_visit_cnt[f'{key}'] = [VISIT_1_RATE, REVISIT_2_RATE, REVISIT_3_RATE]\n",
    "\n",
    "df_vis_revisit = pd.DataFrame.from_dict(\n",
    "    dict_visit_cnt, orient='index', columns=[\n",
    "        'only_1_visit', 'revisit_rate', 'revisit_over_3_rate'])\n",
    "\n",
    "df_vis_revisit\n",
    "\n",
    "# SphereVis.basic_bar_plot(\n",
    "#     df_vis_revisit, x = df_vis_revisit.index, y = 'inflow_cnt', title= '가볼래-터 매체별 전체 유입인원')\n",
    "# plt.show()"
   ]
  },
  {
   "cell_type": "markdown",
   "metadata": {},
   "source": [
    "### (3)매체별 구독전환율"
   ]
  },
  {
   "cell_type": "code",
   "execution_count": 39,
   "metadata": {},
   "outputs": [
    {
     "data": {
      "text/html": [
       "<div>\n",
       "<style scoped>\n",
       "    .dataframe tbody tr th:only-of-type {\n",
       "        vertical-align: middle;\n",
       "    }\n",
       "\n",
       "    .dataframe tbody tr th {\n",
       "        vertical-align: top;\n",
       "    }\n",
       "\n",
       "    .dataframe thead th {\n",
       "        text-align: right;\n",
       "    }\n",
       "</style>\n",
       "<table border=\"1\" class=\"dataframe\">\n",
       "  <thead>\n",
       "    <tr style=\"text-align: right;\">\n",
       "      <th></th>\n",
       "      <th>landing_page_user_nums</th>\n",
       "      <th>subscribe_user_nums</th>\n",
       "      <th>landing_to_subscribe_rate</th>\n",
       "    </tr>\n",
       "  </thead>\n",
       "  <tbody>\n",
       "    <tr>\n",
       "      <th>kakaotalk_bizmessage</th>\n",
       "      <td>1649</td>\n",
       "      <td>50</td>\n",
       "      <td>0.030321</td>\n",
       "    </tr>\n",
       "    <tr>\n",
       "      <th>GDN</th>\n",
       "      <td>4633</td>\n",
       "      <td>5</td>\n",
       "      <td>0.001079</td>\n",
       "    </tr>\n",
       "    <tr>\n",
       "      <th>KAKAO_moment</th>\n",
       "      <td>2867</td>\n",
       "      <td>0</td>\n",
       "      <td>0.000000</td>\n",
       "    </tr>\n",
       "    <tr>\n",
       "      <th>FB_INSTA</th>\n",
       "      <td>4446</td>\n",
       "      <td>59</td>\n",
       "      <td>0.013270</td>\n",
       "    </tr>\n",
       "    <tr>\n",
       "      <th>NAVER_GFA</th>\n",
       "      <td>5101</td>\n",
       "      <td>26</td>\n",
       "      <td>0.005097</td>\n",
       "    </tr>\n",
       "  </tbody>\n",
       "</table>\n",
       "</div>"
      ],
      "text/plain": [
       "                      landing_page_user_nums  subscribe_user_nums  \\\n",
       "kakaotalk_bizmessage                    1649                   50   \n",
       "GDN                                     4633                    5   \n",
       "KAKAO_moment                            2867                    0   \n",
       "FB_INSTA                                4446                   59   \n",
       "NAVER_GFA                               5101                   26   \n",
       "\n",
       "                      landing_to_subscribe_rate  \n",
       "kakaotalk_bizmessage                   0.030321  \n",
       "GDN                                    0.001079  \n",
       "KAKAO_moment                           0.000000  \n",
       "FB_INSTA                               0.013270  \n",
       "NAVER_GFA                              0.005097  "
      ]
     },
     "execution_count": 39,
     "metadata": {},
     "output_type": "execute_result"
    }
   ],
   "source": [
    "# 1. landing page > subscribe conversion rate\n",
    "dict_subscribe_conversion = {}\n",
    "\n",
    "for key, df in dict_df_param_contents.items():\n",
    "    _df = df[df[PARAM_CONTENT_NAME] == '가볼래-터 구독하러 가기']\n",
    "    LANDING_CNT = _df[KEY_ID_DEVICE].nunique()\n",
    "\n",
    "    _df_subscribe = df_param_subscribe[\n",
    "                        df_param_subscribe[KEY_ID_DEVICE].isin(\n",
    "                            list(_df[KEY_ID_DEVICE])\n",
    "                        )]\n",
    "    SUBSCRIBE_CNT = _df_subscribe[KEY_ID_DEVICE].nunique()\n",
    "    \n",
    "    dict_subscribe_conversion[key] = [LANDING_CNT, SUBSCRIBE_CNT, (SUBSCRIBE_CNT/LANDING_CNT)]\n",
    "\n",
    "df_subscribe_conversion = pd.DataFrame.from_dict(\n",
    "    dict_subscribe_conversion, orient='index', columns=[\n",
    "        'landing_page_user_nums', 'subscribe_user_nums', 'landing_to_subscribe_rate'])\n",
    "\n",
    "df_subscribe_conversion"
   ]
  },
  {
   "cell_type": "markdown",
   "metadata": {},
   "source": [
    "### (4)매체별 Fraud"
   ]
  },
  {
   "cell_type": "code",
   "execution_count": 41,
   "metadata": {},
   "outputs": [
    {
     "data": {
      "text/html": [
       "<div>\n",
       "<style scoped>\n",
       "    .dataframe tbody tr th:only-of-type {\n",
       "        vertical-align: middle;\n",
       "    }\n",
       "\n",
       "    .dataframe tbody tr th {\n",
       "        vertical-align: top;\n",
       "    }\n",
       "\n",
       "    .dataframe thead th {\n",
       "        text-align: right;\n",
       "    }\n",
       "</style>\n",
       "<table border=\"1\" class=\"dataframe\">\n",
       "  <thead>\n",
       "    <tr style=\"text-align: right;\">\n",
       "      <th></th>\n",
       "      <th>total_cnt</th>\n",
       "      <th>fraud_cnt</th>\n",
       "      <th>fraud_rate</th>\n",
       "      <th>settle_rate</th>\n",
       "    </tr>\n",
       "  </thead>\n",
       "  <tbody>\n",
       "    <tr>\n",
       "      <th>kakaotalk_bizmessage</th>\n",
       "      <td>5327</td>\n",
       "      <td>682</td>\n",
       "      <td>0.128027</td>\n",
       "      <td>0.871973</td>\n",
       "    </tr>\n",
       "    <tr>\n",
       "      <th>GDN</th>\n",
       "      <td>4665</td>\n",
       "      <td>3821</td>\n",
       "      <td>0.819078</td>\n",
       "      <td>0.180922</td>\n",
       "    </tr>\n",
       "    <tr>\n",
       "      <th>KAKAO_moment</th>\n",
       "      <td>2868</td>\n",
       "      <td>2717</td>\n",
       "      <td>0.947350</td>\n",
       "      <td>0.052650</td>\n",
       "    </tr>\n",
       "    <tr>\n",
       "      <th>FB_INSTA</th>\n",
       "      <td>4447</td>\n",
       "      <td>3789</td>\n",
       "      <td>0.852035</td>\n",
       "      <td>0.147965</td>\n",
       "    </tr>\n",
       "    <tr>\n",
       "      <th>NAVER_GFA</th>\n",
       "      <td>5102</td>\n",
       "      <td>4537</td>\n",
       "      <td>0.889259</td>\n",
       "      <td>0.110741</td>\n",
       "    </tr>\n",
       "  </tbody>\n",
       "</table>\n",
       "</div>"
      ],
      "text/plain": [
       "                      total_cnt  fraud_cnt  fraud_rate  settle_rate\n",
       "kakaotalk_bizmessage       5327        682    0.128027     0.871973\n",
       "GDN                        4665       3821    0.819078     0.180922\n",
       "KAKAO_moment               2868       2717    0.947350     0.052650\n",
       "FB_INSTA                   4447       3789    0.852035     0.147965\n",
       "NAVER_GFA                  5102       4537    0.889259     0.110741"
      ]
     },
     "execution_count": 41,
     "metadata": {},
     "output_type": "execute_result"
    }
   ],
   "source": [
    "# 1. fraud user rate & settlement rate\n",
    "dict_fraud_referrs = {}\n",
    "for key, values in dict_df_log.items():\n",
    "    _df = dict_df_log[key]\n",
    "    _df = _df.groupby(KEY_ID_DEVICE)['duration'].sum().reset_index()\n",
    "    lst_device_fraud = list(_df[KEY_ID_DEVICE][_df['duration'] < 5].unique())\n",
    "\n",
    "    TOTAL_CNT = _df[KEY_ID_DEVICE].nunique()\n",
    "    FRAUD_CNT = len(lst_device_fraud)\n",
    "    FRAUD_RATE = FRAUD_CNT / TOTAL_CNT\n",
    "    # SETTLE_RATE = 1 - FRAUD_RATE\n",
    "\n",
    "    dict_fraud_referrs[f'{key}'] = [TOTAL_CNT, FRAUD_CNT, FRAUD_RATE,  1 - FRAUD_RATE]\n",
    "\n",
    "df_fraud_referrs = pd.DataFrame.from_dict(\n",
    "    dict_fraud_referrs, orient='index', columns=[\n",
    "        'total_cnt', 'fraud_cnt', 'fraud_rate', 'settle_rate'])\n",
    "\n",
    "df_fraud_referrs"
   ]
  },
  {
   "cell_type": "markdown",
   "metadata": {},
   "source": [
    "### (5)앱설치 유저 분석"
   ]
  },
  {
   "cell_type": "code",
   "execution_count": 69,
   "metadata": {},
   "outputs": [
    {
     "data": {
      "text/html": [
       "<div>\n",
       "<style scoped>\n",
       "    .dataframe tbody tr th:only-of-type {\n",
       "        vertical-align: middle;\n",
       "    }\n",
       "\n",
       "    .dataframe tbody tr th {\n",
       "        vertical-align: top;\n",
       "    }\n",
       "\n",
       "    .dataframe thead th {\n",
       "        text-align: right;\n",
       "    }\n",
       "</style>\n",
       "<table border=\"1\" class=\"dataframe\">\n",
       "  <thead>\n",
       "    <tr style=\"text-align: right;\">\n",
       "      <th></th>\n",
       "      <th>user_id</th>\n",
       "      <th>date</th>\n",
       "      <th>gender</th>\n",
       "      <th>user_grade</th>\n",
       "      <th>created_date</th>\n",
       "      <th>uid</th>\n",
       "      <th>created_day</th>\n",
       "      <th>age</th>\n",
       "      <th>age_group</th>\n",
       "      <th>last_conn_day</th>\n",
       "    </tr>\n",
       "  </thead>\n",
       "  <tbody>\n",
       "    <tr>\n",
       "      <th>0</th>\n",
       "      <td></td>\n",
       "      <td>2022-10-01 00:00:01</td>\n",
       "      <td></td>\n",
       "      <td></td>\n",
       "      <td>2022-10-01 00:00:01</td>\n",
       "      <td>7z-hk-NyyM0HEMnePkWmBA</td>\n",
       "      <td>2022-10-01</td>\n",
       "      <td>NaN</td>\n",
       "      <td>NaN</td>\n",
       "      <td>2022-10-01</td>\n",
       "    </tr>\n",
       "    <tr>\n",
       "      <th>1</th>\n",
       "      <td></td>\n",
       "      <td>2022-10-01 00:00:03</td>\n",
       "      <td></td>\n",
       "      <td></td>\n",
       "      <td>2022-10-01 00:00:03</td>\n",
       "      <td>p4xhPaVZ9eaqDqwhktyAEg</td>\n",
       "      <td>2022-10-01</td>\n",
       "      <td>NaN</td>\n",
       "      <td>NaN</td>\n",
       "      <td>2022-10-01</td>\n",
       "    </tr>\n",
       "    <tr>\n",
       "      <th>2</th>\n",
       "      <td></td>\n",
       "      <td>2022-10-01 00:00:03</td>\n",
       "      <td></td>\n",
       "      <td></td>\n",
       "      <td>2022-10-01 00:00:03</td>\n",
       "      <td>JIlBgKc7E6MaGCIRDRG_Qg</td>\n",
       "      <td>2022-10-01</td>\n",
       "      <td>NaN</td>\n",
       "      <td>NaN</td>\n",
       "      <td>2022-10-01</td>\n",
       "    </tr>\n",
       "    <tr>\n",
       "      <th>3</th>\n",
       "      <td></td>\n",
       "      <td>2022-10-01 00:00:04</td>\n",
       "      <td></td>\n",
       "      <td></td>\n",
       "      <td>2022-10-01 00:00:04</td>\n",
       "      <td>C5Oc_3xUk5pTWjQ-ZWDFsA</td>\n",
       "      <td>2022-10-01</td>\n",
       "      <td>NaN</td>\n",
       "      <td>NaN</td>\n",
       "      <td>2022-10-01</td>\n",
       "    </tr>\n",
       "    <tr>\n",
       "      <th>4</th>\n",
       "      <td></td>\n",
       "      <td>2022-10-01 00:00:05</td>\n",
       "      <td></td>\n",
       "      <td></td>\n",
       "      <td>2022-10-01 00:00:05</td>\n",
       "      <td>a4r_wXp5WmAjLPuBv186uA</td>\n",
       "      <td>2022-10-01</td>\n",
       "      <td>NaN</td>\n",
       "      <td>NaN</td>\n",
       "      <td>2022-10-01</td>\n",
       "    </tr>\n",
       "    <tr>\n",
       "      <th>...</th>\n",
       "      <td>...</td>\n",
       "      <td>...</td>\n",
       "      <td>...</td>\n",
       "      <td>...</td>\n",
       "      <td>...</td>\n",
       "      <td>...</td>\n",
       "      <td>...</td>\n",
       "      <td>...</td>\n",
       "      <td>...</td>\n",
       "      <td>...</td>\n",
       "    </tr>\n",
       "    <tr>\n",
       "      <th>1653536</th>\n",
       "      <td>f5c1b753-e973-46cb-8058-18a2103aed67</td>\n",
       "      <td>2022-10-23 23:54:46</td>\n",
       "      <td>m</td>\n",
       "      <td></td>\n",
       "      <td>2022-10-23 23:51:26</td>\n",
       "      <td>cn2kamTjRIS-jF9dwQ-x0g</td>\n",
       "      <td>2022-10-23</td>\n",
       "      <td>31.0</td>\n",
       "      <td>30.0</td>\n",
       "      <td>2022-10-23</td>\n",
       "    </tr>\n",
       "    <tr>\n",
       "      <th>1653537</th>\n",
       "      <td></td>\n",
       "      <td>2022-10-23 23:56:41</td>\n",
       "      <td>m</td>\n",
       "      <td></td>\n",
       "      <td>2022-09-27 10:24:14</td>\n",
       "      <td>KDojOBBBSz6SZITnFL9VzA</td>\n",
       "      <td>2022-09-27</td>\n",
       "      <td>32.0</td>\n",
       "      <td>30.0</td>\n",
       "      <td>2022-10-23</td>\n",
       "    </tr>\n",
       "    <tr>\n",
       "      <th>1653538</th>\n",
       "      <td>1b6d15c9-84e0-4af6-a798-769b7dc2ac6b</td>\n",
       "      <td>2022-10-23 23:56:54</td>\n",
       "      <td>m</td>\n",
       "      <td></td>\n",
       "      <td>2022-09-27 10:24:14</td>\n",
       "      <td>KDojOBBBSz6SZITnFL9VzA</td>\n",
       "      <td>2022-09-27</td>\n",
       "      <td>32.0</td>\n",
       "      <td>30.0</td>\n",
       "      <td>2022-10-23</td>\n",
       "    </tr>\n",
       "    <tr>\n",
       "      <th>1653539</th>\n",
       "      <td>25168f14-a6bc-449a-bc91-e9852e4750b5</td>\n",
       "      <td>2022-10-23 23:59:40</td>\n",
       "      <td>m</td>\n",
       "      <td></td>\n",
       "      <td>2022-10-23 23:51:57</td>\n",
       "      <td>rWgfl612Q7iZTAcjS1pyXA</td>\n",
       "      <td>2022-10-23</td>\n",
       "      <td>60.0</td>\n",
       "      <td>60.0</td>\n",
       "      <td>2022-10-23</td>\n",
       "    </tr>\n",
       "    <tr>\n",
       "      <th>1653540</th>\n",
       "      <td>a023e602-6a8c-42b1-bb30-45db270b618d</td>\n",
       "      <td>2022-10-23 23:59:41</td>\n",
       "      <td>f</td>\n",
       "      <td>LV1</td>\n",
       "      <td>2022-10-23 23:57:36</td>\n",
       "      <td>C0-PYabPT6G-w-7ds4_mag</td>\n",
       "      <td>2022-10-23</td>\n",
       "      <td>44.0</td>\n",
       "      <td>40.0</td>\n",
       "      <td>2022-10-23</td>\n",
       "    </tr>\n",
       "  </tbody>\n",
       "</table>\n",
       "<p>1653541 rows × 10 columns</p>\n",
       "</div>"
      ],
      "text/plain": [
       "                                      user_id                date gender  \\\n",
       "0                                             2022-10-01 00:00:01          \n",
       "1                                             2022-10-01 00:00:03          \n",
       "2                                             2022-10-01 00:00:03          \n",
       "3                                             2022-10-01 00:00:04          \n",
       "4                                             2022-10-01 00:00:05          \n",
       "...                                       ...                 ...    ...   \n",
       "1653536  f5c1b753-e973-46cb-8058-18a2103aed67 2022-10-23 23:54:46      m   \n",
       "1653537                                       2022-10-23 23:56:41      m   \n",
       "1653538  1b6d15c9-84e0-4af6-a798-769b7dc2ac6b 2022-10-23 23:56:54      m   \n",
       "1653539  25168f14-a6bc-449a-bc91-e9852e4750b5 2022-10-23 23:59:40      m   \n",
       "1653540  a023e602-6a8c-42b1-bb30-45db270b618d 2022-10-23 23:59:41      f   \n",
       "\n",
       "        user_grade        created_date                     uid created_day  \\\n",
       "0                  2022-10-01 00:00:01  7z-hk-NyyM0HEMnePkWmBA  2022-10-01   \n",
       "1                  2022-10-01 00:00:03  p4xhPaVZ9eaqDqwhktyAEg  2022-10-01   \n",
       "2                  2022-10-01 00:00:03  JIlBgKc7E6MaGCIRDRG_Qg  2022-10-01   \n",
       "3                  2022-10-01 00:00:04  C5Oc_3xUk5pTWjQ-ZWDFsA  2022-10-01   \n",
       "4                  2022-10-01 00:00:05  a4r_wXp5WmAjLPuBv186uA  2022-10-01   \n",
       "...            ...                 ...                     ...         ...   \n",
       "1653536            2022-10-23 23:51:26  cn2kamTjRIS-jF9dwQ-x0g  2022-10-23   \n",
       "1653537            2022-09-27 10:24:14  KDojOBBBSz6SZITnFL9VzA  2022-09-27   \n",
       "1653538            2022-09-27 10:24:14  KDojOBBBSz6SZITnFL9VzA  2022-09-27   \n",
       "1653539            2022-10-23 23:51:57  rWgfl612Q7iZTAcjS1pyXA  2022-10-23   \n",
       "1653540        LV1 2022-10-23 23:57:36  C0-PYabPT6G-w-7ds4_mag  2022-10-23   \n",
       "\n",
       "          age  age_group last_conn_day  \n",
       "0         NaN        NaN    2022-10-01  \n",
       "1         NaN        NaN    2022-10-01  \n",
       "2         NaN        NaN    2022-10-01  \n",
       "3         NaN        NaN    2022-10-01  \n",
       "4         NaN        NaN    2022-10-01  \n",
       "...       ...        ...           ...  \n",
       "1653536  31.0       30.0    2022-10-23  \n",
       "1653537  32.0       30.0    2022-10-23  \n",
       "1653538  32.0       30.0    2022-10-23  \n",
       "1653539  60.0       60.0    2022-10-23  \n",
       "1653540  44.0       40.0    2022-10-23  \n",
       "\n",
       "[1653541 rows x 10 columns]"
      ]
     },
     "execution_count": 69,
     "metadata": {},
     "output_type": "execute_result"
    }
   ],
   "source": [
    "# 0. prep\n",
    "# df_id_prep = SpherePrep.Prop.df_prop_pipe(df_app_log, [KEY_ID_DEVICE, KEY_ID_USER], drop_none_prop = False)\n",
    "\n",
    "df_id_prep\n",
    "# df_app_log[KEY_ID_DEVICE].nunique(), df_app_log[KEY_ID_USER].nunique()\n",
    "# df_id_prep[KEY_ID_DEVICE].nunique(), df_id_prep[KEY_ID_USER].nunique()"
   ]
  },
  {
   "cell_type": "code",
   "execution_count": 63,
   "metadata": {},
   "outputs": [
    {
     "data": {
      "text/plain": [
       "{'id': Series([], Name: uid, dtype: object), 'cnt': 1}"
      ]
     },
     "execution_count": 63,
     "metadata": {},
     "output_type": "execute_result"
    }
   ],
   "source": [
    "# 1. users installed app\n",
    "dict_install = {}\n",
    "for key, lst in dict_id_referrs.items():\n",
    "    dict_install[f'{key}'] = {}\n",
    "    dict_install[f'{key}']['id'] = df_param_install[KEY_ID_DEVICE][df_param_install[KEY_ID_DEVICE].isin(lst)]\n",
    "    dict_install[f'{key}']['cnt'] = len(dict_install[f'{key}'])\n",
    "\n",
    "# df_install_referrs = pd.DataFrame.from_dict(\n",
    "#     dict_cnt_install, orient='index', columns=[\n",
    "#         'install_cnt'])\n",
    "# df_install_referrs"
   ]
  },
  {
   "cell_type": "code",
   "execution_count": 16,
   "metadata": {},
   "outputs": [
    {
     "name": "stdout",
     "output_type": "stream",
     "text": [
      "test_th\n"
     ]
    },
    {
     "data": {
      "image/png": "[encoded data removed]",
      "text/plain": [
       "<Figure size 720x576 with 1 Axes>"
      ]
     },
     "metadata": {},
     "output_type": "display_data"
    },
    {
     "data": {
      "image/png": "[encoded data removed]",
      "text/plain": [
       "<Figure size 576x504 with 1 Axes>"
      ]
     },
     "metadata": {},
     "output_type": "display_data"
    },
    {
     "data": {
      "image/png": "[encoded data removed]",
      "text/plain": [
       "<Figure size 576x504 with 1 Axes>"
      ]
     },
     "metadata": {},
     "output_type": "display_data"
    },
    {
     "data": {
      "image/png": "[encoded data removed]",
      "text/plain": [
       "<Figure size 576x504 with 1 Axes>"
      ]
     },
     "metadata": {},
     "output_type": "display_data"
    },
    {
     "data": {
      "image/png": "[encoded data removed]",
      "text/plain": [
       "<Figure size 576x504 with 1 Axes>"
      ]
     },
     "metadata": {},
     "output_type": "display_data"
    },
    {
     "data": {
      "image/png": "[encoded data removed]",
      "text/plain": [
       "<Figure size 576x504 with 1 Axes>"
      ]
     },
     "metadata": {},
     "output_type": "display_data"
    },
    {
     "data": {
      "image/png": "[encoded data removed]",
      "text/plain": [
       "<Figure size 576x504 with 1 Axes>"
      ]
     },
     "metadata": {},
     "output_type": "display_data"
    },
    {
     "data": {
      "text/plain": [
       "{'kakaotalk_bizmessage': {'age_gender':       m    f   m_ratio   f_ratio  kakaotalk_bizmessage\n",
       "  10   10   15  0.009116  0.006803                  0.76\n",
       "  20   74  346  0.067457  0.156916                 12.72\n",
       "  30  240  800  0.218778  0.362812                 31.50\n",
       "  40  337  689  0.307201  0.312472                 31.07\n",
       "  50  267  274  0.243391  0.124263                 16.38\n",
       "  60  169   81  0.154057  0.036735                  7.57},\n",
       " 'GDN': {'age_gender':     m  f   m_ratio  f_ratio    GDN\n",
       "  10  0  0  0.000000     0.00   0.00\n",
       "  20  1  0  0.111111     0.00   7.69\n",
       "  30  5  1  0.555556     0.25  46.15\n",
       "  40  2  1  0.222222     0.25  23.08\n",
       "  50  0  1  0.000000     0.25   7.69\n",
       "  60  1  1  0.111111     0.25  15.38},\n",
       " 'FB_INSTA': {'age_gender':      m   f   m_ratio   f_ratio  FB_INSTA\n",
       "  10   0   3  0.000000  0.045455      2.24\n",
       "  20  13  15  0.191176  0.227273     20.90\n",
       "  30  25  28  0.367647  0.424242     39.55\n",
       "  40  30  20  0.441176  0.303030     37.31\n",
       "  50   0   0  0.000000  0.000000      0.00\n",
       "  60   0   0  0.000000  0.000000      0.00},\n",
       " 'NAVER_GFA': {'age_gender':      m   f   m_ratio   f_ratio  NAVER_GFA\n",
       "  10   0   0  0.000000  0.000000       0.00\n",
       "  20   2   1  0.044444  0.041667       4.35\n",
       "  30  10  14  0.222222  0.583333      34.78\n",
       "  40   6   7  0.133333  0.291667      18.84\n",
       "  50   7   1  0.155556  0.041667      11.59\n",
       "  60  20   1  0.444444  0.041667      30.43},\n",
       " 'total': {'age_gender':        m     f   m_ratio   f_ratio  total\n",
       "  10   148   218  0.018856  0.024056   2.16\n",
       "  20   600  1396  0.076443  0.154050  11.80\n",
       "  30  1789  2750  0.227927  0.303465  26.84\n",
       "  40  2393  2766  0.304880  0.305231  30.51\n",
       "  50  1710  1404  0.217862  0.154933  18.41\n",
       "  60  1209   528  0.154032  0.058265  10.27}}"
      ]
     },
     "execution_count": 16,
     "metadata": {},
     "output_type": "execute_result"
    }
   ],
   "source": [
    "# 2. gender & age_group \n",
    "## KAKAO_moment: drop (설치자 0명이라서)\n",
    "dict_id_referrs_demo = dict_id_referrs\n",
    "del dict_id_referrs_demo['KAKAO_moment']\n",
    "\n",
    "## 시각화\n",
    "Profiling.demo_profiling(\n",
    "    df_user_prop=df_prop, KEY_ID=KEY_ID_DEVICE, \n",
    "    dict_user_list=dict_id_referrs_demo, \n",
    "    total_avg = True, vis_type = 'all')"
   ]
  },
  {
   "cell_type": "code",
   "execution_count": 26,
   "metadata": {},
   "outputs": [
    {
     "data": {
      "text/html": [
       "<div>\n",
       "<style scoped>\n",
       "    .dataframe tbody tr th:only-of-type {\n",
       "        vertical-align: middle;\n",
       "    }\n",
       "\n",
       "    .dataframe tbody tr th {\n",
       "        vertical-align: top;\n",
       "    }\n",
       "\n",
       "    .dataframe thead th {\n",
       "        text-align: right;\n",
       "    }\n",
       "</style>\n",
       "<table border=\"1\" class=\"dataframe\">\n",
       "  <thead>\n",
       "    <tr style=\"text-align: right;\">\n",
       "      <th></th>\n",
       "      <th>kakaotalk_bizmessage_gender</th>\n",
       "      <th>GDN_gender</th>\n",
       "      <th>FB_INSTA_gender</th>\n",
       "      <th>NAVER_GFA_gender</th>\n",
       "    </tr>\n",
       "  </thead>\n",
       "  <tbody>\n",
       "    <tr>\n",
       "      <th>f</th>\n",
       "      <td>2282</td>\n",
       "      <td>4</td>\n",
       "      <td>66</td>\n",
       "      <td>24</td>\n",
       "    </tr>\n",
       "    <tr>\n",
       "      <th>m</th>\n",
       "      <td>1136</td>\n",
       "      <td>10</td>\n",
       "      <td>68</td>\n",
       "      <td>46</td>\n",
       "    </tr>\n",
       "  </tbody>\n",
       "</table>\n",
       "</div>"
      ],
      "text/plain": [
       "   kakaotalk_bizmessage_gender  GDN_gender  FB_INSTA_gender  NAVER_GFA_gender\n",
       "f                         2282           4               66                24\n",
       "m                         1136          10               68                46"
      ]
     },
     "execution_count": 26,
     "metadata": {},
     "output_type": "execute_result"
    },
    {
     "data": {
      "text/html": [
       "<div>\n",
       "<style scoped>\n",
       "    .dataframe tbody tr th:only-of-type {\n",
       "        vertical-align: middle;\n",
       "    }\n",
       "\n",
       "    .dataframe tbody tr th {\n",
       "        vertical-align: top;\n",
       "    }\n",
       "\n",
       "    .dataframe thead th {\n",
       "        text-align: right;\n",
       "    }\n",
       "</style>\n",
       "<table border=\"1\" class=\"dataframe\">\n",
       "  <thead>\n",
       "    <tr style=\"text-align: right;\">\n",
       "      <th></th>\n",
       "      <th>kakaotalk_bizmessage_age</th>\n",
       "      <th>GDN_age</th>\n",
       "      <th>FB_INSTA_age</th>\n",
       "      <th>NAVER_GFA_age</th>\n",
       "    </tr>\n",
       "  </thead>\n",
       "  <tbody>\n",
       "    <tr>\n",
       "      <th>10</th>\n",
       "      <td>25</td>\n",
       "      <td>NaN</td>\n",
       "      <td>3.0</td>\n",
       "      <td>NaN</td>\n",
       "    </tr>\n",
       "    <tr>\n",
       "      <th>20</th>\n",
       "      <td>430</td>\n",
       "      <td>1.0</td>\n",
       "      <td>28.0</td>\n",
       "      <td>3.0</td>\n",
       "    </tr>\n",
       "    <tr>\n",
       "      <th>30</th>\n",
       "      <td>1081</td>\n",
       "      <td>7.0</td>\n",
       "      <td>53.0</td>\n",
       "      <td>24.0</td>\n",
       "    </tr>\n",
       "    <tr>\n",
       "      <th>40</th>\n",
       "      <td>1072</td>\n",
       "      <td>3.0</td>\n",
       "      <td>50.0</td>\n",
       "      <td>13.0</td>\n",
       "    </tr>\n",
       "    <tr>\n",
       "      <th>50</th>\n",
       "      <td>554</td>\n",
       "      <td>1.0</td>\n",
       "      <td>NaN</td>\n",
       "      <td>8.0</td>\n",
       "    </tr>\n",
       "    <tr>\n",
       "      <th>60</th>\n",
       "      <td>256</td>\n",
       "      <td>2.0</td>\n",
       "      <td>NaN</td>\n",
       "      <td>22.0</td>\n",
       "    </tr>\n",
       "  </tbody>\n",
       "</table>\n",
       "</div>"
      ],
      "text/plain": [
       "    kakaotalk_bizmessage_age  GDN_age  FB_INSTA_age  NAVER_GFA_age\n",
       "10                        25      NaN           3.0            NaN\n",
       "20                       430      1.0          28.0            3.0\n",
       "30                      1081      7.0          53.0           24.0\n",
       "40                      1072      3.0          50.0           13.0\n",
       "50                       554      1.0           NaN            8.0\n",
       "60                       256      2.0           NaN           22.0"
      ]
     },
     "execution_count": 26,
     "metadata": {},
     "output_type": "execute_result"
    }
   ],
   "source": [
    "## exact numbers age/gender by referrs\n",
    "_df_gender = pd.DataFrame()\n",
    "_df_age = pd.DataFrame()\n",
    "\n",
    "for key, lst_id in dict_id_referrs_demo.items():\n",
    "    if key != 'total':\n",
    "        _df = df_prop[df_prop[KEY_ID_DEVICE].isin(lst_id)]\n",
    "        _df_gender = pd.concat(\n",
    "            [_df_gender, _df['gender'].value_counts().to_frame(name = f'{key}_gender')], axis=1)\n",
    "        _df_age = pd.concat(\n",
    "            [_df_age, _df['age_group'].value_counts().to_frame(name = f'{key}_age')], axis=1)\n",
    "    else:\n",
    "        pass\n",
    "\n",
    "_df_gender\n",
    "_df_age"
   ]
  },
  {
   "cell_type": "markdown",
   "metadata": {},
   "source": [
    "## 2.주요 KPI 지표 성과 분석"
   ]
  },
  {
   "cell_type": "markdown",
   "metadata": {},
   "source": [
    "### (1)유입\n",
    "    - 신규 유입\n",
    "    - 회원가입 및 구독 완료\n"
   ]
  },
  {
   "cell_type": "code",
   "execution_count": null,
   "metadata": {},
   "outputs": [],
   "source": []
  },
  {
   "cell_type": "code",
   "execution_count": null,
   "metadata": {},
   "outputs": [],
   "source": []
  },
  {
   "cell_type": "code",
   "execution_count": null,
   "metadata": {},
   "outputs": [],
   "source": []
  },
  {
   "cell_type": "markdown",
   "metadata": {},
   "source": [
    "### (2)활성\n",
    "    - 인당 컨텐츠 조회수\n",
    "    - 검색 조회 빈도\n",
    "    - 인당 체류 시간"
   ]
  },
  {
   "cell_type": "code",
   "execution_count": null,
   "metadata": {},
   "outputs": [],
   "source": []
  },
  {
   "cell_type": "code",
   "execution_count": null,
   "metadata": {},
   "outputs": [],
   "source": []
  },
  {
   "cell_type": "code",
   "execution_count": null,
   "metadata": {},
   "outputs": [],
   "source": []
  },
  {
   "cell_type": "code",
   "execution_count": null,
   "metadata": {},
   "outputs": [],
   "source": []
  },
  {
   "cell_type": "markdown",
   "metadata": {},
   "source": [
    "### (3)리텐션\n",
    "    - 재방문율"
   ]
  },
  {
   "cell_type": "code",
   "execution_count": null,
   "metadata": {},
   "outputs": [],
   "source": []
  },
  {
   "cell_type": "code",
   "execution_count": null,
   "metadata": {},
   "outputs": [],
   "source": []
  },
  {
   "cell_type": "code",
   "execution_count": null,
   "metadata": {},
   "outputs": [],
   "source": []
  },
  {
   "cell_type": "code",
   "execution_count": null,
   "metadata": {},
   "outputs": [],
   "source": []
  },
  {
   "cell_type": "code",
   "execution_count": null,
   "metadata": {},
   "outputs": [],
   "source": []
  }
 ],
 "metadata": {
  "kernelspec": {
   "display_name": "Python 3.6.9 ('minkyung62-b8C37Bii': pipenv)",
   "language": "python",
   "name": "python3"
  },
  "language_info": {
   "codemirror_mode": {
    "name": "ipython",
    "version": 3
   },
   "file_extension": ".py",
   "mimetype": "text/x-python",
   "name": "python",
   "nbconvert_exporter": "python",
   "pygments_lexer": "ipython3",
   "version": "3.6.9"
  },
  "orig_nbformat": 4,
  "vscode": {
   "interpreter": {
    "hash": "6a067959875f13951e8faa9e336679a33c7f8116ca199aafd61aa9869d703496"
   }
  }
 },
 "nbformat": 4,
 "nbformat_minor": 2
}
